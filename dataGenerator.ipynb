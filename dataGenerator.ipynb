{
 "cells": [
  {
   "cell_type": "code",
   "execution_count": 1,
   "metadata": {},
   "outputs": [],
   "source": [
    "import random\n",
    "import numpy as np"
   ]
  },
  {
   "cell_type": "code",
   "execution_count": 6,
   "metadata": {},
   "outputs": [],
   "source": [
    "def generator(length, alphabet):\n",
    "    truSCS = \"\"\n",
    "    for i in range(length):\n",
    "        ind = np.random.randint(len(alphabet))\n",
    "        letter = alphabet[ind]\n",
    "        truSCS += letter\n",
    "    return truSCS\n",
    "\n",
    "def shotgun(SCS, fragN, end, start=0, fragLen=100):\n",
    "    startInds = np.random.randint(start, end, size = fragN)\n",
    "    frags = []\n",
    "    for i in startInds:\n",
    "        string_i = SCS[i:i+fragLen]\n",
    "        frags.append(string_i)\n",
    "    return frags"
   ]
  },
  {
   "cell_type": "code",
   "execution_count": null,
   "metadata": {},
   "outputs": [],
   "source": [
    "genomes = []\n",
    "\n",
    "for i in range(1000):\n",
    "    SCS = generator(1000,['a', 'g', 'c', 't'])\n",
    "    genomes.append(SCS)\n",
    "    frags = shotgun(SCS, 100, len(SCS)-100, 0, 100)\n",
    "    np.savetxt('fragments_'+str(i)+'.tsv', frags, delimiter = \"\\t\", fmt='%s')\n",
    "\n",
    "np.savetxt('genomes.tsv', genomes, delimiter=\"\\t\", fmt='%s')"
   ]
  },
  {
   "cell_type": "code",
   "execution_count": null,
   "metadata": {
    "scrolled": false
   },
   "outputs": [],
   "source": []
  },
  {
   "cell_type": "code",
   "execution_count": null,
   "metadata": {},
   "outputs": [],
   "source": []
  }
 ],
 "metadata": {
  "kernelspec": {
   "display_name": "Python 3",
   "language": "python",
   "name": "python3"
  },
  "language_info": {
   "codemirror_mode": {
    "name": "ipython",
    "version": 3
   },
   "file_extension": ".py",
   "mimetype": "text/x-python",
   "name": "python",
   "nbconvert_exporter": "python",
   "pygments_lexer": "ipython3",
   "version": "3.6.8"
  }
 },
 "nbformat": 4,
 "nbformat_minor": 2
}
